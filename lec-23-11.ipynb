{
 "cells": [
  {
   "cell_type": "code",
   "execution_count": null,
   "metadata": {},
   "outputs": [],
   "source": [
    "## tribonaci series\n",
    "## 0,0,1,1,2,4,7,13,24\n",
    "a=0\n",
    "b=0\n",
    "c=1\n",
    "sum=0\n",
    " \n",
    "for i in range(4,20):\n",
    "    sum=a+b+c\n",
    "    a=b\n",
    "    b=c\n",
    "    c=sum\n",
    "    if i==18:\n",
    "        print(sum)"
   ]
  },
  {
   "cell_type": "code",
   "execution_count": null,
   "metadata": {},
   "outputs": [],
   "source": [
    "# Strong Number:- In number theory a number is strong when the sum of its individual digits each raise to factorial power \n",
    "# is the number itself \n",
    "def fac(num):\n",
    "    fac1=1\n",
    "    while num>1:\n",
    "        fac1=fac1*num\n",
    "        num=num-1\n",
    "    return fac1\n",
    "\n",
    "def strongnumber(n):\n",
    "    temp1=n\n",
    "    sum1=0\n",
    "    while n!=0:\n",
    "        temp=n%10\n",
    "        f=fac(temp)\n",
    "        sum1=sum1+f\n",
    "        n=n//10\n",
    "    if temp1==sum1:\n",
    "        print(\"yes\")\n",
    "    else:\n",
    "        print(\"no\")\n",
    "            "
   ]
  },
  {
   "cell_type": "code",
   "execution_count": null,
   "metadata": {},
   "outputs": [],
   "source": [
    "strongnumber(145)"
   ]
  },
  {
   "cell_type": "code",
   "execution_count": null,
   "metadata": {},
   "outputs": [],
   "source": [
    "# AMICABLE NUMBER:- pair of number whose factors and accordingly their sum is the other number in pair\n",
    "def y(num):\n",
    "\n",
    "    sum=0\n",
    "    for i in range(1,num//2+1):\n",
    "        if num%i==0:\n",
    "            sum=sum+i\n",
    "    return sum\n",
    "\n",
    "for i  in range (1,500):\n",
    "        sum1=y(i)\n",
    "        temp=y(sum1)\n",
    "        if temp==i and sum1!=i:\n",
    "            print(f\"{sum1},{i}\")"
   ]
  },
  {
   "cell_type": "code",
   "execution_count": null,
   "metadata": {},
   "outputs": [],
   "source": [
    "# wap that ccomputes the net amount of bank account based on a transaction log from console input\n",
    "curr=10000\n",
    "b=True\n",
    "while b:\n",
    "    print(f\"d for deposite , w for withdraw , q fro quit\")\n",
    "    a=input(\"enter the letter\")\n",
    "    if a==\"d\":\n",
    "        print(\"enter deposite amt\")\n",
    "        dep=int(input(\"enter amt\"))\n",
    "        print(f\"current balance {curr}\")\n",
    "        curr=curr+dep\n",
    "        print(f\"updated balance {curr}\")\n",
    "    elif a==\"w\":\n",
    "        print(\"enter withdraw amt\")\n",
    "        with1=int(input(\"enter amt\"))\n",
    "        print(f\"current balance {curr}\")\n",
    "        curr=curr-with1\n",
    "        print(f\"withdraw amount {with1} ,updated balance{curr}\")\n",
    "    elif a==\"q\":\n",
    "        b=False"
   ]
  },
  {
   "cell_type": "code",
   "execution_count": null,
   "metadata": {},
   "outputs": [],
   "source": [
    "#1-2+3-4+5...-2000\n",
    "sum=0\n",
    "for i in range(1,2001):\n",
    "    if i%2==0:\n",
    "        sum=sum-i\n",
    "    else:\n",
    "        sum=sum+i\n",
    "print(sum)"
   ]
  },
  {
   "cell_type": "code",
   "execution_count": null,
   "metadata": {},
   "outputs": [],
   "source": [
    "# pronic number: a number which is the product of consecutive number \n",
    "for i in range (1,10):\n",
    "    j=i+1\n",
    "    print(f\"{i}X{j}={i*j}\")"
   ]
  },
  {
   "cell_type": "code",
   "execution_count": 8,
   "metadata": {},
   "outputs": [
    {
     "name": "stdout",
     "output_type": "stream",
     "text": [
      "    / \\    \n",
      "   / \\   \n",
      "  / \\  \n",
      " / \\ \n"
     ]
    }
   ],
   "source": [
    "for i in range(5,1,-1):\n",
    "    for j in range(i,0,-1):\n",
    "        if j==1:\n",
    "            print('/',end=' ')\n",
    "        else:\n",
    "            print('',end=' ')\n",
    "    for j in range(1,i+1):\n",
    "        if j==1:\n",
    "            print('\\\\',end='')\n",
    "        else:\n",
    "            print('',end=' ')\n",
    "    print()  "
   ]
  },
  {
   "cell_type": "code",
   "execution_count": null,
   "metadata": {},
   "outputs": [],
   "source": []
  }
 ],
 "metadata": {
  "kernelspec": {
   "display_name": "Python 3",
   "language": "python",
   "name": "python3"
  },
  "language_info": {
   "codemirror_mode": {
    "name": "ipython",
    "version": 3
   },
   "file_extension": ".py",
   "mimetype": "text/x-python",
   "name": "python",
   "nbconvert_exporter": "python",
   "pygments_lexer": "ipython3",
   "version": "3.8.5"
  }
 },
 "nbformat": 4,
 "nbformat_minor": 4
}
