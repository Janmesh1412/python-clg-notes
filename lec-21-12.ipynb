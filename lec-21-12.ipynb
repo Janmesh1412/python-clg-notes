{
 "cells": [
  {
   "cell_type": "code",
   "execution_count": 41,
   "metadata": {},
   "outputs": [
    {
     "name": "stdout",
     "output_type": "stream",
     "text": [
      "[1, 2]\n"
     ]
    }
   ],
   "source": [
    "# lis of an integer of two nubers such that they add upto a specific target you may assume that every\n",
    "# input would have one solution and you may not use the same element twice\n",
    "l=[2,11,11,13]\n",
    "o=[]\n",
    "g=False\n",
    "for i in range(0,len(l)-1):\n",
    "    for j in range(1,len(l)):\n",
    "        if i!=j:\n",
    "                if l[i]+l[j]==22:\n",
    "                       o.append(i)\n",
    "                       o.append(j)\n",
    "                       g=True\n",
    "                       print(o)\n",
    "                       break\n",
    "                else:\n",
    "                    continue\n",
    "    if g==True:\n",
    "        break\n",
    "if g==False:\n",
    "        print(-1)\n",
    "\n",
    " "
   ]
  },
  {
   "cell_type": "code",
   "execution_count": 53,
   "metadata": {},
   "outputs": [
    {
     "name": "stdout",
     "output_type": "stream",
     "text": [
      "7\n"
     ]
    },
    {
     "data": {
      "text/plain": [
       "'hsmenaj'"
      ]
     },
     "execution_count": 53,
     "metadata": {},
     "output_type": "execute_result"
    }
   ],
   "source": [
    "s=\"janemsh\"\n",
    "count=0\n",
    "for i in s:\n",
    "    count+=1\n",
    "print(count)\n",
    "s[-1:-8:-1]"
   ]
  },
  {
   "cell_type": "code",
   "execution_count": 68,
   "metadata": {},
   "outputs": [
    {
     "name": "stdout",
     "output_type": "stream",
     "text": [
      "2b3cbva"
     ]
    }
   ],
   "source": [
    "# wap to find min window in a given string  which will contain all char of another given string \n",
    "# s1=\"la2b3cbva\"\n",
    "# s2=\"abc\"\n",
    "# for i in  s1:\n",
    "#     if i in s2:\n",
    "#         f_index=s1.index(i)\n",
    "#         break\n",
    "#     l_index=0\n",
    "# for i in range (f_index,len(s1)):\n",
    "#     if s1[i] in s2:\n",
    "#         l_index=i\n",
    "# for i in range(f_index+1,l_index+1):\n",
    "#     print(s1[i],end=\"\")\n",
    "def findminwind(s,t):\n",
    "    counter_s={}\n",
    "    counter_t={}\n",
    "    for c in t:\n",
    "        counter_t[c]=counter_t.get(c,0)+1\n",
    "    i=0\n",
    "    j=0\n",
    "    left=-1\n",
    "    right=-1\n",
    "    valid=0\n",
    "    for i in range(len(s)):\n",
    "        while j<len(s) and value<len(counter_t):\n",
    "            counter_s[s[j]]=counter_s.get(s[j],0)+1\n",
    "            if s[j] in counter_t and counter_s[s[j]]==counter_t[s[j]]:\n",
    "                valid+=1\n",
    "            j+=1\n",
    "        if valid == len(counter_t):\n",
    "            "
   ]
  },
  {
   "cell_type": "code",
   "execution_count": 76,
   "metadata": {},
   "outputs": [
    {
     "name": "stdout",
     "output_type": "stream",
     "text": [
      "pahnaplsiigyier"
     ]
    }
   ],
   "source": [
    "l=[['p',' ','a',' ','h',' ','n'],\n",
    "   [ 'a','p','l','s','i','i','g'],\n",
    "   [ 'y',' ','i',' ','e',' ','r']\n",
    "   ]\n",
    "for i in l:\n",
    "    for j in range(0,len(i)):\n",
    "        if i[j]==\" \":\n",
    "            continue\n",
    "        else:\n",
    "            print(i[j],end=\"\")\n",
    "        \n",
    "\n",
    "        "
   ]
  },
  {
   "cell_type": "code",
   "execution_count": null,
   "metadata": {},
   "outputs": [],
   "source": []
  }
 ],
 "metadata": {
  "kernelspec": {
   "display_name": "Python 3",
   "language": "python",
   "name": "python3"
  },
  "language_info": {
   "codemirror_mode": {
    "name": "ipython",
    "version": 3
   },
   "file_extension": ".py",
   "mimetype": "text/x-python",
   "name": "python",
   "nbconvert_exporter": "python",
   "pygments_lexer": "ipython3",
   "version": "3.10.8"
  }
 },
 "nbformat": 4,
 "nbformat_minor": 2
}
