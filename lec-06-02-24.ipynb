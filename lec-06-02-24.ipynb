{
 "cells": [
  {
   "cell_type": "code",
   "execution_count": 9,
   "metadata": {},
   "outputs": [
    {
     "name": "stdout",
     "output_type": "stream",
     "text": [
      "[[95  7 38 77]\n",
      " [84 36 19 77]\n",
      " [11 63 70 51]\n",
      " [20 72 23  6]\n",
      " [84 80 92 10]\n",
      " [80 26 77 30]]\n"
     ]
    },
    {
     "data": {
      "text/plain": [
       "array([[ 7, 38, 77, 95],\n",
       "       [19, 36, 77, 84],\n",
       "       [11, 51, 63, 70],\n",
       "       [ 6, 20, 23, 72],\n",
       "       [10, 80, 84, 92],\n",
       "       [26, 30, 77, 80]])"
      ]
     },
     "execution_count": 9,
     "metadata": {},
     "output_type": "execute_result"
    }
   ],
   "source": [
    "import numpy as np\n",
    "a=np.array([5,1,6,8,3])\n",
    "a.sort()\n",
    "a\n",
    "b=np.random.randint(1,100,24).reshape(6,4)\n",
    "print(b)\n",
    "np.sort(b,axis=1)"
   ]
  },
  {
   "cell_type": "code",
   "execution_count": 13,
   "metadata": {},
   "outputs": [
    {
     "data": {
      "text/plain": [
       "[array([5, 1, 6]), array([8, 3, 4])]"
      ]
     },
     "execution_count": 13,
     "metadata": {},
     "output_type": "execute_result"
    }
   ],
   "source": [
    "import numpy as np\n",
    "a=np.array([5,1,6,8,3,4])\n",
    "new=np.array_split(a,2)\n",
    "new"
   ]
  },
  {
   "cell_type": "code",
   "execution_count": null,
   "metadata": {},
   "outputs": [],
   "source": []
  }
 ],
 "metadata": {
  "kernelspec": {
   "display_name": "Python 3",
   "language": "python",
   "name": "python3"
  },
  "language_info": {
   "codemirror_mode": {
    "name": "ipython",
    "version": 3
   },
   "file_extension": ".py",
   "mimetype": "text/x-python",
   "name": "python",
   "nbconvert_exporter": "python",
   "pygments_lexer": "ipython3",
   "version": "3.8.5"
  }
 },
 "nbformat": 4,
 "nbformat_minor": 4
}
