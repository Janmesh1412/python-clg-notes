{
 "cells": [
  {
   "cell_type": "code",
   "execution_count": null,
   "metadata": {},
   "outputs": [],
   "source": [
    "# WAP to reduce fraction (8/24)--> (1/3)\n",
    "x=int(input(\"enter a number\"))\n",
    "y=int(input(\"enter a number\"))\n",
    "gcd=1\n",
    "for i in range(2,y+1):\n",
    "    if x%i==0 and y%i==0:\n",
    "        gcd=i\n",
    "for i in range(2,x+1):\n",
    "    if x%i==0 and y%i==0:\n",
    "        gcd=i\n",
    "x=x/gcd\n",
    "y=y/gcd\n",
    "\n",
    "print(f\"{x}/{y}\")"
   ]
  },
  {
   "cell_type": "code",
   "execution_count": null,
   "metadata": {},
   "outputs": [],
   "source": [
    "# WAP DISARIUM NUMBER if the sum of its digit raised to their  respective pos its num itself\n",
    "num=int(input(\"enter a number\"))\n",
    "temp\n",
    "sum=0\n",
    "while temp!=0:\n",
    "    temp=num%10\n",
    "    t=temp.length\n",
    "    sum=sum+(temp*t)\n",
    "    num=num/10\n",
    "\n",
    "if sum==num:\n",
    "    print(\"yes\")"
   ]
  },
  {
   "cell_type": "code",
   "execution_count": null,
   "metadata": {},
   "outputs": [],
   "source": [
    "%load_ext nbtutor"
   ]
  },
  {
   "cell_type": "code",
   "execution_count": 2,
   "metadata": {},
   "outputs": [
    {
     "name": "stdout",
     "output_type": "stream",
     "text": [
      "enter a number135\n",
      "yes\n"
     ]
    }
   ],
   "source": [
    "# WAP DISARIUM NUMBER if the sum of its digit raised to their  respective pos its num itself\n",
    "num=int(input(\"enter a number\"))\n",
    "temp=num\n",
    "temp1=num\n",
    "sum=0\n",
    "count=0\n",
    "while temp!=0:\n",
    "    t=temp%10\n",
    "    count+=1\n",
    "    temp=temp//10\n",
    "    \n",
    "while temp1!=0:\n",
    "    t1=temp1%10\n",
    "    sum=sum+(t1**count)\n",
    "    count-=1\n",
    "    temp1=temp1//10\n",
    "    \n",
    "if sum==num:\n",
    "    print(\"yes\")\n",
    "else:\n",
    "    print(\"no\")"
   ]
  },
  {
   "cell_type": "code",
   "execution_count": 10,
   "metadata": {},
   "outputs": [],
   "source": [
    "# collatz sequence id genreted by repeadely by applying the foll rules to int \n",
    "# if even divide 2\n",
    "# if odd multiply by 3 and add 1\n",
    "# this algo is tested and found to reach 1 for all positive integer\n",
    "\n",
    "# wap that takes two positive integer and returns a if it took few steps to reach 1 then b\n",
    "\n",
    "def collatz(a,b):\n",
    "    num1=a\n",
    "    num2=b\n",
    "    counta=0\n",
    "    countb=0\n",
    "    while a>1:\n",
    "        if a%2==0:\n",
    "            a=a//2\n",
    "            counta+=1\n",
    "        elif a%2==1:\n",
    "            a=a*3\n",
    "            a=a+1\n",
    "            counta+=1\n",
    "        else:\n",
    "            print(\"invalid\")\n",
    "            \n",
    "    while b>1:\n",
    "        if b%2==0:\n",
    "            b=b//2\n",
    "            countb+=1\n",
    "        elif b%2==1:\n",
    "            b=b*3\n",
    "            b=b+1\n",
    "            countb+=1\n",
    "        else:\n",
    "            print(invalid)\n",
    "            \n",
    "    if counta>countb:\n",
    "        print(num2)\n",
    "    else:\n",
    "        print(num1)"
   ]
  },
  {
   "cell_type": "code",
   "execution_count": 11,
   "metadata": {},
   "outputs": [
    {
     "name": "stdout",
     "output_type": "stream",
     "text": [
      "6\n"
     ]
    }
   ],
   "source": [
    "collatz(6,9)"
   ]
  },
  {
   "cell_type": "code",
   "execution_count": 16,
   "metadata": {},
   "outputs": [
    {
     "name": "stdout",
     "output_type": "stream",
     "text": [
      "enter a number18\n",
      "harshad number\n"
     ]
    }
   ],
   "source": [
    "#niven number\n",
    "# divisible by sum of its digit\n",
    "n=int(input(\"enter a number\"))\n",
    "temp=n\n",
    "sum=0\n",
    "while temp!=0:\n",
    "    t=temp%10\n",
    "    sum=sum+t\n",
    "    temp=temp//10\n",
    "if (sum==(n/2)):\n",
    "    print(\"harshad number\")\n",
    "else:\n",
    "    print(\"not a harshad number\")"
   ]
  },
  {
   "cell_type": "code",
   "execution_count": 22,
   "metadata": {},
   "outputs": [
    {
     "name": "stdout",
     "output_type": "stream",
     "text": [
      "enter a number8\n",
      "enter am or pm am\n",
      "how many hours ahead10\n"
     ]
    }
   ],
   "source": [
    "# ask the user for an hour between 1 and 12 ask them to enter am or pm and ask them how many hours into the future \n",
    "#they want to go\n",
    "# PAST TIME TRAVEL\n",
    "hr=int(input(\"enter a number\"))\n",
    "a=input(\"enter am or pm \")\n",
    "nhr=int(input(\"how many hours ahead\"))\n",
    "\n",
    "if nhr<hr:\n",
    "    b=hr+nhr\n",
    "    if b>0 and b<12:\n",
    "        print(b,\"am\")\n",
    "elif nhr>hr:\n",
    "        b=24+(hr-nhr)\n",
    "        if b>=12 and b<24:\n",
    "              print(b,\"pm\")\n",
    "      "
   ]
  },
  {
   "cell_type": "code",
   "execution_count": 23,
   "metadata": {},
   "outputs": [],
   "source": [
    "def timemachine(x,y,z):\n",
    "    if y==\"am\":\n",
    "        x=x+12\n",
    "    for i in range (1,z+1):\n",
    "        x+=1\n",
    "        if x==24:\n",
    "            x=0\n",
    "    if x>12:\n",
    "        x=x-12\n",
    "        print(x,\"pm\")\n",
    "    else:\n",
    "        print(x,\"am\")\n",
    "  "
   ]
  },
  {
   "cell_type": "code",
   "execution_count": 26,
   "metadata": {},
   "outputs": [
    {
     "name": "stdout",
     "output_type": "stream",
     "text": [
      "6 am\n"
     ]
    }
   ],
   "source": [
    "timemachine(6,\"am\",12)"
   ]
  },
  {
   "cell_type": "code",
   "execution_count": 13,
   "metadata": {},
   "outputs": [
    {
     "name": "stdout",
     "output_type": "stream",
     "text": [
      "enter a number9\n",
      "9+99+999+9999\n",
      "11106\n"
     ]
    }
   ],
   "source": [
    "# a+aa+aaa+aaaa...\n",
    "a=int(input(\"enter a number\"))\n",
    "n1=int(f\"{a}\")\n",
    "n2=int(f\"{a}{a}\")\n",
    "n3=int(f\"{a}{a}{a}\")\n",
    "n4=int(f\"{a}{a}{a}{a}\")\n",
    "print(f\"{n1}+{n2}+{n3}+{n4}\")\n",
    "print(n1+n2+n3+n4)"
   ]
  },
  {
   "cell_type": "code",
   "execution_count": null,
   "metadata": {},
   "outputs": [],
   "source": []
  }
 ],
 "metadata": {
  "kernelspec": {
   "display_name": "Python 3",
   "language": "python",
   "name": "python3"
  },
  "language_info": {
   "codemirror_mode": {
    "name": "ipython",
    "version": 3
   },
   "file_extension": ".py",
   "mimetype": "text/x-python",
   "name": "python",
   "nbconvert_exporter": "python",
   "pygments_lexer": "ipython3",
   "version": "3.8.5"
  }
 },
 "nbformat": 4,
 "nbformat_minor": 4
}
