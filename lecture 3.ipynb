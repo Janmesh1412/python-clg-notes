{
 "cells": [
  {
   "cell_type": "code",
   "execution_count": null,
   "metadata": {},
   "outputs": [],
   "source": [
    "-2**2"
   ]
  },
  {
   "cell_type": "code",
   "execution_count": null,
   "metadata": {},
   "outputs": [],
   "source": [
    "x=6\n",
    "not(x)"
   ]
  },
  {
   "cell_type": "code",
   "execution_count": null,
   "metadata": {},
   "outputs": [],
   "source": [
    "x=\"\"\n",
    "not(x)"
   ]
  },
  {
   "cell_type": "code",
   "execution_count": null,
   "metadata": {},
   "outputs": [],
   "source": [
    "### Membership Operator\n"
   ]
  },
  {
   "cell_type": "raw",
   "metadata": {},
   "source": [
    "'p' in 'python'"
   ]
  },
  {
   "cell_type": "code",
   "execution_count": null,
   "metadata": {},
   "outputs": [],
   "source": []
  },
  {
   "cell_type": "code",
   "execution_count": null,
   "metadata": {},
   "outputs": [],
   "source": [
    "0 or \"hello\" and 1 "
   ]
  },
  {
   "cell_type": "code",
   "execution_count": 6,
   "metadata": {},
   "outputs": [
    {
     "name": "stdout",
     "output_type": "stream",
     "text": [
      "enter number5\n",
      "enter number5\n",
      "enter number5\n",
      "The area of triangle with side 1 =5.0 side 2 =5.0 side 3 =5.0 is 10.825317547305483\n"
     ]
    }
   ],
   "source": [
    "# wap to find the area of the triangle \n",
    "## take user input as a,b,c \n",
    "#a is side 1\n",
    "a=float(input(\"enter number\"))\n",
    "#b is side 2\n",
    "b=float(input(\"enter number\"))\n",
    "#c is side 3\n",
    "c=float(input(\"enter number\"))\n",
    "## s is semiparameter\n",
    "s=(a+b+c)/2\n",
    "# area of triangle \n",
    "area = (s*(s-a)*(s-b)*(s-c))**0.5\n",
    "print(f\"The area of triangle with side 1 ={a} side 2 ={b} side 3 ={c} is {area}\")"
   ]
  },
  {
   "cell_type": "code",
   "execution_count": 7,
   "metadata": {},
   "outputs": [
    {
     "name": "stdout",
     "output_type": "stream",
     "text": [
      "enter the number of days 398\n",
      "entered number of days id  398 Converted to following\n",
      "Number of years 1\n",
      "Number of month 1\n",
      "Number of days 3\n"
     ]
    }
   ],
   "source": [
    "## to convert a given number of days into years month days\n",
    "number_of_days=int(input(\"enter the number of days \"))\n",
    "print(\"entered number of days id \",number_of_days,\"Converted to following\")\n",
    "\n",
    "year=int(number_of_days/365)\n",
    "print(\"Number of years\",year)\n",
    "\n",
    "month =int((number_of_days%365)/30)\n",
    "print(\"Number of month\",month)\n",
    "\n",
    "days=int((number_of_days%365)%30)\n",
    "print(\"Number of days\",days)"
   ]
  },
  {
   "cell_type": "code",
   "execution_count": null,
   "metadata": {},
   "outputs": [],
   "source": [
    "x=5\n",
    "if x>0:\n",
    "    print(x)"
   ]
  },
  {
   "cell_type": "markdown",
   "metadata": {},
   "source": [
    "## condtional statemnet \n",
    "if\n",
    "////\n",
    "if - else\n",
    "///\n",
    "if-elif-else"
   ]
  },
  {
   "cell_type": "markdown",
   "metadata": {},
   "source": [
    "nested if are if statement inside other if statement \n"
   ]
  },
  {
   "cell_type": "code",
   "execution_count": 5,
   "metadata": {},
   "outputs": [
    {
     "name": "stdout",
     "output_type": "stream",
     "text": [
      "xis +ve \n",
      "2\n"
     ]
    }
   ],
   "source": [
    "x=2\n",
    "if x>0 :\n",
    "    print(\"x is +ve \")\n",
    "    if x==2:\n",
    "            print(x)"
   ]
  },
  {
   "cell_type": "code",
   "execution_count": null,
   "metadata": {},
   "outputs": [],
   "source": [
    "s"
   ]
  }
 ],
 "metadata": {
  "kernelspec": {
   "display_name": "Python 3",
   "language": "python",
   "name": "python3"
  },
  "language_info": {
   "codemirror_mode": {
    "name": "ipython",
    "version": 3
   },
   "file_extension": ".py",
   "mimetype": "text/x-python",
   "name": "python",
   "nbconvert_exporter": "python",
   "pygments_lexer": "ipython3",
   "version": "3.8.5"
  }
 },
 "nbformat": 4,
 "nbformat_minor": 4
}
