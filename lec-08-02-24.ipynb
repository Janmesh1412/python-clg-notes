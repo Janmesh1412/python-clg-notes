{
 "cells": [
  {
   "cell_type": "markdown",
   "metadata": {},
   "source": [
    "# Abstract class"
   ]
  },
  {
   "cell_type": "code",
   "execution_count": 2,
   "metadata": {},
   "outputs": [],
   "source": [
    "# from abc import ABC , abstractmethod \n",
    "# ABC is a abstract class which defines the bheviour of other class \n",
    "# ABSTRACT METHOD OF ABS CLASS MUST BE DEFINE IN CHILD CLASS\n",
    "# it is used when common features are shared by all object as they"
   ]
  },
  {
   "cell_type": "code",
   "execution_count": 10,
   "metadata": {
    "scrolled": true
   },
   "outputs": [
    {
     "name": "stdout",
     "output_type": "stream",
     "text": [
      "Area is land\n",
      "Gun is AK 47\n",
      "Area is Sea\n",
      "Gun is AK 47\n"
     ]
    }
   ],
   "source": [
    "# the vastu imp hoy ee (method) jaruri hoi ee abtract class ni ander abs method banvi devani\n",
    "from abc import ABC, abstractmethod\n",
    "class Defence(ABC):\n",
    "    @abstractmethod\n",
    "    def area(self):\n",
    "        pass\n",
    "    def gun(self):\n",
    "        print(\"Gun is AK 47\")\n",
    "class Army(Defence):\n",
    "    def area(self):\n",
    "        print(\"Area is land\")\n",
    "class Navy(Defence):\n",
    "    def area(self):\n",
    "        print(\"Area is Sea\")\n",
    "a=Army()\n",
    "b=Navy()\n",
    "a.area()\n",
    "a.gun()\n",
    "b.area()\n",
    "b.gun()"
   ]
  },
  {
   "cell_type": "code",
   "execution_count": 11,
   "metadata": {},
   "outputs": [
    {
     "name": "stdout",
     "output_type": "stream",
     "text": [
      "I am from D\n",
      "I am from D\n"
     ]
    }
   ],
   "source": [
    "class A:\n",
    "    def which(self):\n",
    "        print(\"I am from A\")\n",
    "class B(A):\n",
    "    def which(self):\n",
    "        print(\"I am from  B\")\n",
    "class C(A):\n",
    "    def which(self):\n",
    "        print(\"I am from C\")\n",
    "class D(B,C):\n",
    "    def which(self):\n",
    "        print(\"I am from D\")\n",
    "d=D()\n",
    "d.which()\n",
    "d.which()"
   ]
  },
  {
   "cell_type": "code",
   "execution_count": 12,
   "metadata": {},
   "outputs": [
    {
     "data": {
      "text/plain": [
       "[__main__.D, __main__.B, __main__.C, __main__.A, object]"
      ]
     },
     "execution_count": 12,
     "metadata": {},
     "output_type": "execute_result"
    }
   ],
   "source": [
    "D.mro()"
   ]
  },
  {
   "cell_type": "code",
   "execution_count": 1,
   "metadata": {},
   "outputs": [],
   "source": [
    "class A:\n",
    "    pass\n",
    "class B:\n",
    "    pass\n",
    "class C(A,B):\n",
    "    pass\n",
    "class D(C,B):\n",
    "    pass \n",
    "class X(D,C):\n",
    "    pass"
   ]
  },
  {
   "cell_type": "code",
   "execution_count": 2,
   "metadata": {},
   "outputs": [
    {
     "data": {
      "text/plain": [
       "[__main__.X, __main__.D, __main__.C, __main__.A, __main__.B, object]"
      ]
     },
     "execution_count": 2,
     "metadata": {},
     "output_type": "execute_result"
    }
   ],
   "source": [
    "X.mro()"
   ]
  },
  {
   "cell_type": "code",
   "execution_count": 20,
   "metadata": {},
   "outputs": [
    {
     "data": {
      "text/plain": [
       "[__main__.X, __main__.C, __main__.D, __main__.A, __main__.B, object]"
      ]
     },
     "execution_count": 20,
     "metadata": {},
     "output_type": "execute_result"
    }
   ],
   "source": [
    "X.mro()"
   ]
  },
  {
   "cell_type": "code",
   "execution_count": null,
   "metadata": {},
   "outputs": [],
   "source": [
    "class Book:\n",
    "    def __init__(self,title,author,pages):\n",
    "        self.title=title\n",
    "        self."
   ]
  }
 ],
 "metadata": {
  "kernelspec": {
   "display_name": "Python 3",
   "language": "python",
   "name": "python3"
  },
  "language_info": {
   "codemirror_mode": {
    "name": "ipython",
    "version": 3
   },
   "file_extension": ".py",
   "mimetype": "text/x-python",
   "name": "python",
   "nbconvert_exporter": "python",
   "pygments_lexer": "ipython3",
   "version": "3.8.5"
  }
 },
 "nbformat": 4,
 "nbformat_minor": 4
}
