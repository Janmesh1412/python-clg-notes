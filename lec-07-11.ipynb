{
 "cells": [
  {
   "cell_type": "code",
   "execution_count": 4,
   "metadata": {},
   "outputs": [
    {
     "name": "stdout",
     "output_type": "stream",
     "text": [
      "x=3, y=2 \n",
      "x=17, y=12 \n",
      "x=99, y=70 \n"
     ]
    }
   ],
   "source": [
    "# write all integer sol of x**2-2y**2=1 for all the values of x,y between 1 100\n",
    "for x in range(1,101):\n",
    "    for y in range(1,101):\n",
    "        if( x**2-2*(y**2)==1):\n",
    "            print(f\"x={x} and y={y} \")"
   ]
  },
  {
   "cell_type": "code",
   "execution_count": 13,
   "metadata": {},
   "outputs": [
    {
     "name": "stdout",
     "output_type": "stream",
     "text": [
      "enter dollars0.99\n",
      "quater=3.0 amt=75.0\n",
      "dime=2.0  amt=20.0\n",
      "nickle=0\n",
      "penny=4.0  amt=4.0\n"
     ]
    }
   ],
   "source": [
    "# WAP that gives aan amount of change for 1 dollar and it prints out the denoimination that we needed for the change \n",
    "# 1. quater =25  2.dime= 10 3. nickel=5  4. penny=1 \n",
    "dollar=float(input(\"enter dollars\"))\n",
    "qauter=25\n",
    "dime=10\n",
    "nickel=5\n",
    "penny=1\n",
    "\n",
    "if dollar<1:\n",
    "    dollar=dollar*100\n",
    "    t1=dollar//25\n",
    "    if(t1>=1):\n",
    "        dollar=dollar-(25*t1)\n",
    "        print(f\"quater={t1} amt={t1*25}\")\n",
    "    else:\n",
    "        print(f\"quater=0\")\n",
    "        \n",
    "    t1=dollar//10\n",
    "    if(t1>=1):\n",
    "        dollar=dollar-(10*t1)\n",
    "        print(f\"dime={t1}  amt={t1*10}\")\n",
    "    else:\n",
    "        print(f\"dime=0\")\n",
    "        \n",
    "    t1=dollar//5\n",
    "    if(t1>=1):\n",
    "        dollar=dollar-(5*t1)\n",
    "        print(f\"nickle={t1}  and amt={t1*5}\")\n",
    "    else:\n",
    "        print(f\"nickle=0\")\n",
    "        \n",
    "    t1=dollar//1\n",
    "    if(t1>=1):\n",
    "        dollar=dollar-(1*t1)\n",
    "        print(f\"penny={t1}  amt={t1}\")\n",
    "    else:\n",
    "        print(f\"penny=0\")    \n",
    "    \n",
    "    \n",
    "else:\n",
    "    print(\"wrong input\")"
   ]
  },
  {
   "cell_type": "code",
   "execution_count": 69,
   "metadata": {},
   "outputs": [
    {
     "name": "stdout",
     "output_type": "stream",
     "text": [
      "1\n",
      "2\n",
      "3\n",
      "4\n",
      "5\n",
      "6\n",
      "2\n",
      "3\n",
      "4\n",
      "5\n",
      "6\n",
      "7\n",
      "8\n",
      "9\n",
      "3\n",
      "4\n",
      "5\n",
      "6\n",
      "7\n"
     ]
    }
   ],
   "source": [
    "# suppose you put 1 rupees in bank on first day(monday) every day from next day (tue,sun) you puttinh 1 ruppes \n",
    "#more than day before and on every subsequenct monday you will put i rupees more thsn previous monday if you have n \n",
    "#find the total amount of money you will have in th bank at eend of Nth day\n",
    "bank = 0\n",
    "mon = 1\n",
    "j = 7\n",
    "count=1\n",
    "for i in range(1, 18):\n",
    "    \n",
    "    if i % 7 == 0:   \n",
    "           \n",
    "            bank = 0\n",
    "            mon = mon + 1\n",
    "            bank = bank + mon\n",
    "            print(bank)\n",
    "            bank = bank + 1\n",
    "            print(bank)\n",
    "            \n",
    "    else:\n",
    "            bank = bank + 1\n",
    "            print(bank)\n",
    "\n",
    "    "
   ]
  },
  {
   "cell_type": "code",
   "execution_count": null,
   "metadata": {},
   "outputs": [],
   "source": []
  }
 ],
 "metadata": {
  "kernelspec": {
   "display_name": "Python 3",
   "language": "python",
   "name": "python3"
  },
  "language_info": {
   "codemirror_mode": {
    "name": "ipython",
    "version": 3
   },
   "file_extension": ".py",
   "mimetype": "text/x-python",
   "name": "python",
   "nbconvert_exporter": "python",
   "pygments_lexer": "ipython3",
   "version": "3.8.5"
  }
 },
 "nbformat": 4,
 "nbformat_minor": 4
}
