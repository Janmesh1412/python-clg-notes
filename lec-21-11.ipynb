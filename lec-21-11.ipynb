{
 "cells": [
  {
   "cell_type": "code",
   "execution_count": null,
   "metadata": {},
   "outputs": [],
   "source": [
    "## happy number\n",
    "## starting with any positive integer repla ce the number by the sum of ssquare of its digit and repeat the process\n",
    "## until the number either equals 1 or it loops endlessly e=which does not include 1\n",
    "def happy(num):\n",
    "            \n",
    "            if num==1 :\n",
    "                    print(f\"is happy number\")\n",
    "            else:\n",
    "                temp=num\n",
    "                sum=0\n",
    "                while temp!=0:\n",
    "                    r=temp%10\n",
    "                    sum=sum+(r*r)\n",
    "                    temp=temp//10\n",
    "                happy(sum)\n",
    "      \n",
    "            \n",
    "            "
   ]
  },
  {
   "cell_type": "code",
   "execution_count": null,
   "metadata": {},
   "outputs": [],
   "source": [
    "##1,7,10,13,19,23,28\n",
    "happy(13)"
   ]
  },
  {
   "cell_type": "code",
   "execution_count": null,
   "metadata": {},
   "outputs": [],
   "source": [
    "## hardy ramanujan number \n",
    "sum1=0\n",
    "sum2=0\n",
    "for i in range (1,21):\n",
    "    for j in range (1,21):\n",
    "        if i==j:\n",
    "            continue\n",
    "        else:\n",
    "            sum1=(i**3)+(j**3)\n",
    "        for k in range (1,21):\n",
    "            \n",
    "            for l in range (1,21):\n",
    "                if k==l or k==1 or k==j or l==i or l==j :\n",
    "                    continue\n",
    "                else:\n",
    "                    sum2=(k**3)+(l**3)     \n",
    "                if sum1==sum2:\n",
    "                    print(f\"{i},{j}=={k},{l}\")\n",
    "                    print(sum1)\n",
    "        \n",
    "       \n",
    "            \n",
    "            "
   ]
  },
  {
   "cell_type": "code",
   "execution_count": null,
   "metadata": {},
   "outputs": [],
   "source": [
    "## pascal triangle\n"
   ]
  },
  {
   "cell_type": "code",
   "execution_count": null,
   "metadata": {},
   "outputs": [],
   "source": [
    "def solve(n):\n",
    "    for i in range(n+1):\n",
    "        for j in range(n-i):\n",
    "            print(' ',end=\" \")\n",
    "        c=1\n",
    "        for j in range(1,i+1):\n",
    "            print(c,' ',sep=' ',end=\" \")\n",
    "            c=c*(i-j)//j\n",
    "        print()   "
   ]
  },
  {
   "cell_type": "code",
   "execution_count": null,
   "metadata": {},
   "outputs": [],
   "source": [
    "solve(2)"
   ]
  },
  {
   "cell_type": "code",
   "execution_count": 1,
   "metadata": {},
   "outputs": [],
   "source": [
    "## QB191\n"
   ]
  },
  {
   "cell_type": "code",
   "execution_count": 4,
   "metadata": {},
   "outputs": [],
   "source": [
    "## QB235\n",
    "def root(n):\n",
    "    guess=n/2\n",
    "    for i in range(10):\n",
    "        guess=(guess+n/guess)/2\n",
    "    print(guess)    "
   ]
  },
  {
   "cell_type": "code",
   "execution_count": 7,
   "metadata": {},
   "outputs": [
    {
     "name": "stdout",
     "output_type": "stream",
     "text": [
      "23.769728648009426\n"
     ]
    }
   ],
   "source": [
    "root(565)"
   ]
  },
  {
   "cell_type": "code",
   "execution_count": null,
   "metadata": {},
   "outputs": [],
   "source": []
  }
 ],
 "metadata": {
  "kernelspec": {
   "display_name": "Python 3",
   "language": "python",
   "name": "python3"
  },
  "language_info": {
   "codemirror_mode": {
    "name": "ipython",
    "version": 3
   },
   "file_extension": ".py",
   "mimetype": "text/x-python",
   "name": "python",
   "nbconvert_exporter": "python",
   "pygments_lexer": "ipython3",
   "version": "3.8.5"
  }
 },
 "nbformat": 4,
 "nbformat_minor": 4
}
